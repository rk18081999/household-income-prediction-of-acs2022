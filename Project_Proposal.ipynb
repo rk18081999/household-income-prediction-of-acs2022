{
 "cells": [
  {
   "cell_type": "markdown",
   "id": "2f54478c",
   "metadata": {},
   "source": [
    "## Unveiling the Tapestry of Life: A Machine Learning Exploration of Socioeconomic and Housing Dynamics"
   ]
  },
  {
   "cell_type": "markdown",
   "id": "0be84f99",
   "metadata": {},
   "source": [
    "Rahul Kanth Panganamamula"
   ]
  },
  {
   "cell_type": "markdown",
   "id": "8537b60a",
   "metadata": {},
   "source": [
    "## Introduction"
   ]
  },
  {
   "cell_type": "markdown",
   "id": "9a19ab00",
   "metadata": {},
   "source": [
    "The objective of this project is to delve into the American Community Survey 2022 data to uncover intricate patterns and insights related to socioeconomic and housing dynamics. While many studies have explored various aspects of this dataset, our approach aims to integrate multiple dimensions—demographic, socioeconomic, and housing—to provide a comprehensive understanding of the factors influencing community well-being and economic status. This research is vital as it contributes to a nuanced understanding of societal structures, aiding policymakers, community planners, and researchers in making informed decisions.\n",
    "\n",
    "Our dataset stands out not only for its volume but for the depth of information it contains. From basic demographic details like age and sex to more complex socioeconomic indicators such as income levels, educational attainment, and housing affordability, the dataset offers a panoramic view of the living conditions and societal structures within the surveyed region. Among the myriad of columns, we have judiciously selected 50 features that hold the key to unlocking a multitude of patterns and trends. These features span across various domains, including:\n",
    "\n",
    "Demographic and Socioeconomic Features\n",
    "\n",
    "    Age, Sex, Race, and Marital Status: These fundamental demographic attributes lay the groundwork for understanding population structure and social dynamics. They allow us to examine trends such as aging, gender disparities, racial diversity, and family composition.\n",
    "    Household Income and Personal Income: These features are pivotal in assessing economic well-being and inequality. By analyzing income data, we can identify patterns of wealth distribution, poverty, and economic mobility.\n",
    "    Educational Attainment: This indicator sheds light on the levels of education reached within the community, offering insights into access to education, lifelong earning potential, and societal value placed on education.\n",
    "    Employment Status and Occupation Code: These variables help us understand labor market participation, industry sectors employing the population, and the nature of employment—full-time, part-time, or unemployed.\n",
    "    Income-to-Poverty Ratio: An essential measure for identifying households that face economic hardship, enabling targeted studies on poverty and its impact on various life outcomes.\n",
    "\n",
    "Housing and Living Conditions\n",
    "\n",
    "    Property Value and Monthly Rent: These indicators provide a glimpse into the housing market, reflecting on affordability, housing quality, and the economic status of neighborhoods.\n",
    "    Number of Bedrooms and Rooms: Insights from these features relate to living space, overcrowding, and the capacity of housing to meet family needs.\n",
    "    Year Structure Built: This feature offers historical context, revealing patterns in housing development, urbanization, and potentially, the aging infrastructure.\n",
    "\n",
    "Lifestyle and Expenses\n",
    "\n",
    "    Vehicle Ownership: A proxy for mobility, access to services, and, indirectly, economic status.\n",
    "    Monthly Utility Costs (Electricity, Gas, Water): These variables offer perspectives on living expenses, energy consumption, and the financial burden of utilities on households.\n",
    "    Internet Access: In the digital age, internet access is a critical factor in educational opportunities, employment, and social connectivity.\n",
    "\n",
    "Advanced Socioeconomic Indicators\n",
    "\n",
    "    Public and Private Health Insurance Coverage: These features highlight healthcare accessibility and the role of public versus private support in ensuring health coverage.\n",
    "    Disability Status: Understanding the prevalence and types of disabilities within the population can inform accessibility, policy, and support services.\n",
    "    Military Service: Insights into the veteran population, addressing their unique needs, experiences, and contributions to society.\n",
    "\n",
    "Our selection is designed not just for breadth but depth, allowing us to construct a multi-dimensional analysis that can address complex questions. By exploring these features through the lens of machine learning, we aim to uncover patterns that are not immediately visible, predict outcomes of interest, and generate insights that have tangible implications for policy-making, community support, and further research.\n"
   ]
  },
  {
   "cell_type": "markdown",
   "id": "67013cc3",
   "metadata": {},
   "source": [
    "**Data Dictionary**\n",
    "\n",
    "**Explanatory Variables:** \n",
    "\n",
    "        Demographic Variables: Age of the householder (AGEP), Sex (SEX), Marital Status (MAR), Number of Persons in the Household (NP).\n",
    "    Housing Variables: Tenure (TEN, indicating whether the home is owned or rented), Number of Bedrooms (BDSP), Year Structure Built (YBL) as a proxy for housing quality.\n",
    "    Employment Variables: Employment Status (EMP), Occupation (OCCP), Hours Worked Per Week (WKHP), Industry (INDP) as indicators of labor market engagement and sector."
   ]
  },
  {
   "cell_type": "markdown",
   "id": "408c3456",
   "metadata": {},
   "source": [
    "### Literature Review\n",
    "\n",
    "Summary:\n",
    "\n",
    "    Introduction and Problem Statement: The project focuses on using machine learning to predict the income level (>50K or <=50K) of individuals based on various demographic and employment-related features.\n",
    "\n",
    "    Data Preparation and EDA: The dataset, consisting of 32,560 records with 15 attributes, was cleaned and explored. Special attention was given to handling missing values and understanding the distribution of various features.\n",
    "\n",
    "    Feature Engineering: Categorical variables were encoded, and numerical features were scaled to improve model performance.\n",
    "\n",
    "    Model Building: Various models including Logistic Regression, KNN, Decision Trees, Random Forest, AdaBoost, SVM, Gradient Boosting, and XGBoost were trained to predict income levels.\n",
    "\n",
    "    Model Evaluation: Models were evaluated using metrics such as accuracy, precision, recall, F1-score, and ROC AUC curves. XGBoost and Gradient Boosting were identified as the best performing models.\n",
    "\n",
    "    Hyperparameter Tuning: Further improvements were attempted by tuning the hyperparameters of the XGBoost model, which resulted in minimal gains.\n",
    "\n",
    "    Conclusion: The research concluded with the selection of the XGBoost model as the most effective for predicting income levels based on the dataset, after considering performance metrics and cross-validation scores.\n",
    "\n",
    "Purpose of the Research:\n",
    "\n",
    "The research is centered around leveraging machine learning techniques to analyze census data with the aim of predicting income levels. This endeavor is significant for several reasons:\n",
    "\n",
    "    Policy Making and Social Research: Understanding income distribution and the factors influencing income levels is crucial for policymakers and social researchers. The insights gained can aid in the formulation of policies aimed at income equality and poverty alleviation.\n",
    "\n",
    "    Economic Analysis: The project offers a methodological framework for using machine learning in economic research, showcasing how data-driven insights can inform our understanding of economic conditions and trends.\n",
    "\n",
    "    Technical Showcase: It serves as a practical example of applying various machine learning techniques, including preprocessing steps, model selection, and evaluation strategies. This is valuable for practitioners and students in the field of data science.\n",
    "\n",
    "    Problem-Solving with Data Science: The research exemplifies how data science can address real-world problems by transforming raw data into actionable insights, thereby demonstrating the impact of machine learning in societal applications.\n",
    "    \n",
    "    \n",
    "    \n",
    "**Link to simillar research: https://medium.com/@lokeshbisen989/census-income-project-using-python-8f8d33a5942d**\n",
    "\n",
    "In their research they have used Various models including Logistic Regression, KNN, Decision Trees, Random Forest, AdaBoost, SVM, Gradient Boosting, and XGBoost were trained to predict income levels.\n",
    "since considering their reseacrh we are implementing three models for the 2022 ACS pums dataset\n",
    "\n",
    "XGBoost Model, Neural Network Model, Random Forest Model"
   ]
  },
  {
   "cell_type": "markdown",
   "id": "6e16a5b5",
   "metadata": {},
   "source": [
    "### American Community Survey (ACS)\n",
    "\n",
    "he American Community Survey (ACS) is an ongoing survey that provides vital information on a yearly basis about our nation and its people. Information from the survey generates data that help inform how trillions of dollars in federal funds are distributed each year.\n",
    "\n",
    "ACS Information:\n",
    "Through the ACS, we know more about jobs and occupations, educational attainment, veterans, whether people own or rent their homes, and other topics. Public officials, planners, and entrepreneurs use this information to assess the past and plan the future. When you respond to the ACS, you are doing your part to help your community plan for hospitals and schools, support school lunch programs, improve emergency services, build bridges, and inform businesses looking to add jobs and expand to new markets, and more."
   ]
  },
  {
   "cell_type": "markdown",
   "id": "5feb0b16",
   "metadata": {},
   "source": [
    "## Research Questions"
   ]
  },
  {
   "cell_type": "markdown",
   "id": "c1c4a0e4",
   "metadata": {},
   "source": [
    "    1. Can we predict a household's income level based on demographic, housing, and employment characteristics?"
   ]
  },
  {
   "cell_type": "markdown",
   "id": "ef1a053a",
   "metadata": {},
   "source": [
    "## Data to be Used"
   ]
  },
  {
   "cell_type": "markdown",
   "id": "1467b2c7",
   "metadata": {},
   "source": [
    "Our Dataset consists of 241 columns (a.k.a Features), 819228 rows (a.k.a Records).\n",
    "\n",
    "We have taken data from AMERICAN COMMUNITY SURVEY 2022 https://www.census.gov/programs-surveys/acs/about.html, downloaded the data from American Community Survey (ACS) Public Use Microdata Sample (PUMS) files to https://www.census.gov/programssurveys/acs/microdata/access.html.\n",
    "\n",
    "Specifically from this location https://www2.census.gov/programs-surveys/acs/data/pums/2022/\n",
    "\n",
    "we have downloaded the data and uploaded it into Our GIthub repository Using Github LFS\n",
    "\n",
    "Because of data size and running time constraint we are taking into consideration of only first 26 states data only \n",
    "\n",
    "These are the states we are working on:\n",
    "\n",
    "    AK - Alaska\n",
    "    AL - Alabama\n",
    "    AR - Arkansas\n",
    "    AZ - Arizona\n",
    "    CA - California\n",
    "    CO - Colorado\n",
    "    CT - Connecticut\n",
    "    DC - District of Columbia\n",
    "    DE - Delaware\n",
    "    FL - Florida\n",
    "    GA - Georgia\n",
    "    HI - Hawaii\n",
    "    IA - Iowa\n",
    "    ID - Idaho\n",
    "    IL - Illinois\n",
    "    IN - Indiana\n",
    "    KS - Kansas\n",
    "    KY - Kentucky\n",
    "    LA - Louisiana\n",
    "    MA - Massachusetts\n",
    "    MD - Maryland\n",
    "    ME - Maine\n",
    "    MI - Michigan\n",
    "    MN - Minnesota\n",
    "    MO - Missouri\n",
    "    MS - Mississippi"
   ]
  },
  {
   "cell_type": "markdown",
   "id": "0833919e",
   "metadata": {},
   "source": [
    "## Approach"
   ]
  },
  {
   "cell_type": "markdown",
   "id": "2ad4260d",
   "metadata": {},
   "source": [
    "#### 1. Exploratory Data Analysis (EDA)\n",
    "\n",
    "    Objective: Understand the data's characteristics, distribution, and potential relationships between variables.\n",
    "    Approach:\n",
    "        Data Cleaning: Handle missing values, outliers, and errors in the dataset.\n",
    "        Visualization: Use histograms, box plots, scatter plots, and heatmaps to visualize distributions and relationships.\n",
    "        Correlation Analysis: Identify potential relationships between variables using correlation coefficients.\n",
    "        Summary Statistics: Generate summary statistics to understand the central tendency, dispersion, and shape of the dataset's distribution.\n",
    "\n",
    "\n",
    "#### 2. Preprocessing Data\n",
    "\n",
    "    Objective: Prepare the data for modeling by handling categorical variables, scaling numerical data, and potentially reducing dimensionality.\n",
    "    Approach:\n",
    "        Encoding Categorical Variables: Use one-hot encoding or label encoding for categorical variables.\n",
    "        Scaling/Normalization: Apply standardization or normalization to numerical variables to ensure they're on the same scale.\n",
    "        Feature Selection: Use statistical tests, feature importance scores, or dimensionality reduction techniques (e.g., PCA) to select relevant features.\n",
    "        Data Splitting: Split the data into training, validation, and test sets to prepare for model training and evaluation.\n",
    "\n",
    "\n",
    "#### 3. Model Development and Evaluation\n",
    "\n",
    "    1. XGBoost Model:\n",
    "\n",
    "    Approach: Use XGBoost for a classification task to predict the income level category. XGBoost is effective for handling categorical variables and can manage imbalanced data through its weighting mechanism.\n",
    "    Preprocessing: Encode categorical variables and apply feature scaling. Income categories will be used as the target.\n",
    "    Evaluation Metrics: Accuracy, Precision, Recall, F1-Score.\n",
    "\n",
    "    2. Neural Network Model:\n",
    "\n",
    "    Approach: Design a shallow neural network architecture with fully connected layers to classify the income level category. Neural networks are flexible and can model complex non-linear relationships.\n",
    "    Preprocessing: One-hot encode categorical variables, normalize numerical features, and categorize the income variable.\n",
    "    Evaluation Metrics: Accuracy, Precision, Recall, F1-Score, alongside validation loss.\n",
    "\n",
    "    3. Random Forest Model:\n",
    "\n",
    "    Approach: Utilize Random Forest for its robustness and ability to handle a mix of numerical and categorical data without extensive preprocessing. It's also useful for feature importance analysis.\n",
    "    Preprocessing: Minimal preprocessing required; however, encoding categorical variables is necessary.\n",
    "    Evaluation Metrics: Accuracy, Precision, Recall, F1-Score.\n",
    "\n",
    "#### 4. Comparing Model Performance\n",
    "\n",
    "    Performance Metrics: Compare the models based on their evaluation metrics to identify strengths and weaknesses.\n",
    "    Validation Set: Use a consistent validation approach, like cross-validation, to ensure fair comparison.\n",
    "    Selection Criteria: Decide on the best model(s) based on performance, complexity, and interpretability.\n",
    "\n",
    "\n",
    "#### 5. Creating an Ensemble Model\n",
    "\n",
    "    Objective: Combine the predictions from the XGBoost, Neural Network, and Random Forest models to create a more robust ensemble model.\n",
    "    Approach:\n",
    "        Simple Averaging/Weighted Averaging: For regression problems, average the predictions. For classification, use voting or weighted voting based on model confidence.\n",
    "        Stacking: Use a meta-model to learn how to best combine the predictions from the individual models. The meta-model is trained on the predictions of the base models on a hold-out set.\n",
    "    Evaluation: Assess the ensemble model's performance on a test set, separate from the data used to train the individual models.\n",
    "\n",
    "\n",
    "#### 6. Conclusion and Insights\n",
    "\n",
    "    Performance Summary: Summarize the performance of the individual models and the ensemble model.\n",
    "    Insights: Discuss the implications of the findings, including any surprising patterns, strengths, and limitations of the models.\n",
    "    Recommendations: Offer recommendations for practical applications of the models, potential improvements, and areas for future research.\n",
    "\n",
    "#### Final Steps\n",
    "\n",
    "    Documentation: Throughout the project, document your methodology, code, findings, and decisions.\n",
    "    Reproducibility: Ensure that your analysis and models are reproducible, including data preprocessing steps, model parameters, and evaluation criteria.\n",
    "    Ethical Considerations: Reflect on the ethical implications of your work, especially in relation to predictive modeling on sensitive topics like income, education, and housing."
   ]
  },
  {
   "cell_type": "markdown",
   "id": "8f8fdbf3",
   "metadata": {},
   "source": [
    "### Work Distribution among the team\n",
    "\n",
    "    mahanth dasari EDA, building XG boost model\n",
    "    Minjae lee Data preparation, BUilding random forest model\n",
    "    Rahul kanth panganamamula Building ensemble, Neural Network Model"
   ]
  },
  {
   "cell_type": "code",
   "execution_count": 1,
   "id": "85e14360",
   "metadata": {},
   "outputs": [
    {
     "ename": "HTTPError",
     "evalue": "HTTP Error 404: Not Found",
     "output_type": "error",
     "traceback": [
      "\u001b[1;31m---------------------------------------------------------------------------\u001b[0m",
      "\u001b[1;31mHTTPError\u001b[0m                                 Traceback (most recent call last)",
      "\u001b[1;32m~\\AppData\\Local\\Temp\\ipykernel_7220\\2321476645.py\u001b[0m in \u001b[0;36m<module>\u001b[1;34m\u001b[0m\n\u001b[0;32m      1\u001b[0m \u001b[1;32mimport\u001b[0m \u001b[0mpandas\u001b[0m \u001b[1;32mas\u001b[0m \u001b[0mpd\u001b[0m\u001b[1;33m\u001b[0m\u001b[1;33m\u001b[0m\u001b[0m\n\u001b[0;32m      2\u001b[0m \u001b[1;33m\u001b[0m\u001b[0m\n\u001b[1;32m----> 3\u001b[1;33m \u001b[0mdf\u001b[0m\u001b[1;33m=\u001b[0m \u001b[0mpd\u001b[0m\u001b[1;33m.\u001b[0m\u001b[0mread_csv\u001b[0m\u001b[1;33m(\u001b[0m\u001b[1;34m\"https://media.githubusercontent.com/media/rk18081999/final-project-rep/main/psam_husa.csv?token=ANTHJQG5TC32VTHJKHOYIF3F6A4JQ\"\u001b[0m\u001b[1;33m)\u001b[0m\u001b[1;33m\u001b[0m\u001b[1;33m\u001b[0m\u001b[0m\n\u001b[0m\u001b[0;32m      4\u001b[0m \u001b[1;33m\u001b[0m\u001b[0m\n\u001b[0;32m      5\u001b[0m \u001b[0mdf\u001b[0m\u001b[1;33m.\u001b[0m\u001b[0mhead\u001b[0m\u001b[1;33m(\u001b[0m\u001b[1;33m)\u001b[0m\u001b[1;33m\u001b[0m\u001b[1;33m\u001b[0m\u001b[0m\n",
      "\u001b[1;32mC:\\ProgramData\\Anaconda3\\lib\\site-packages\\pandas\\util\\_decorators.py\u001b[0m in \u001b[0;36mwrapper\u001b[1;34m(*args, **kwargs)\u001b[0m\n\u001b[0;32m    309\u001b[0m                     \u001b[0mstacklevel\u001b[0m\u001b[1;33m=\u001b[0m\u001b[0mstacklevel\u001b[0m\u001b[1;33m,\u001b[0m\u001b[1;33m\u001b[0m\u001b[1;33m\u001b[0m\u001b[0m\n\u001b[0;32m    310\u001b[0m                 )\n\u001b[1;32m--> 311\u001b[1;33m             \u001b[1;32mreturn\u001b[0m \u001b[0mfunc\u001b[0m\u001b[1;33m(\u001b[0m\u001b[1;33m*\u001b[0m\u001b[0margs\u001b[0m\u001b[1;33m,\u001b[0m \u001b[1;33m**\u001b[0m\u001b[0mkwargs\u001b[0m\u001b[1;33m)\u001b[0m\u001b[1;33m\u001b[0m\u001b[1;33m\u001b[0m\u001b[0m\n\u001b[0m\u001b[0;32m    312\u001b[0m \u001b[1;33m\u001b[0m\u001b[0m\n\u001b[0;32m    313\u001b[0m         \u001b[1;32mreturn\u001b[0m \u001b[0mwrapper\u001b[0m\u001b[1;33m\u001b[0m\u001b[1;33m\u001b[0m\u001b[0m\n",
      "\u001b[1;32mC:\\ProgramData\\Anaconda3\\lib\\site-packages\\pandas\\io\\parsers\\readers.py\u001b[0m in \u001b[0;36mread_csv\u001b[1;34m(filepath_or_buffer, sep, delimiter, header, names, index_col, usecols, squeeze, prefix, mangle_dupe_cols, dtype, engine, converters, true_values, false_values, skipinitialspace, skiprows, skipfooter, nrows, na_values, keep_default_na, na_filter, verbose, skip_blank_lines, parse_dates, infer_datetime_format, keep_date_col, date_parser, dayfirst, cache_dates, iterator, chunksize, compression, thousands, decimal, lineterminator, quotechar, quoting, doublequote, escapechar, comment, encoding, encoding_errors, dialect, error_bad_lines, warn_bad_lines, on_bad_lines, delim_whitespace, low_memory, memory_map, float_precision, storage_options)\u001b[0m\n\u001b[0;32m    676\u001b[0m     \u001b[0mkwds\u001b[0m\u001b[1;33m.\u001b[0m\u001b[0mupdate\u001b[0m\u001b[1;33m(\u001b[0m\u001b[0mkwds_defaults\u001b[0m\u001b[1;33m)\u001b[0m\u001b[1;33m\u001b[0m\u001b[1;33m\u001b[0m\u001b[0m\n\u001b[0;32m    677\u001b[0m \u001b[1;33m\u001b[0m\u001b[0m\n\u001b[1;32m--> 678\u001b[1;33m     \u001b[1;32mreturn\u001b[0m \u001b[0m_read\u001b[0m\u001b[1;33m(\u001b[0m\u001b[0mfilepath_or_buffer\u001b[0m\u001b[1;33m,\u001b[0m \u001b[0mkwds\u001b[0m\u001b[1;33m)\u001b[0m\u001b[1;33m\u001b[0m\u001b[1;33m\u001b[0m\u001b[0m\n\u001b[0m\u001b[0;32m    679\u001b[0m \u001b[1;33m\u001b[0m\u001b[0m\n\u001b[0;32m    680\u001b[0m \u001b[1;33m\u001b[0m\u001b[0m\n",
      "\u001b[1;32mC:\\ProgramData\\Anaconda3\\lib\\site-packages\\pandas\\io\\parsers\\readers.py\u001b[0m in \u001b[0;36m_read\u001b[1;34m(filepath_or_buffer, kwds)\u001b[0m\n\u001b[0;32m    573\u001b[0m \u001b[1;33m\u001b[0m\u001b[0m\n\u001b[0;32m    574\u001b[0m     \u001b[1;31m# Create the parser.\u001b[0m\u001b[1;33m\u001b[0m\u001b[1;33m\u001b[0m\u001b[0m\n\u001b[1;32m--> 575\u001b[1;33m     \u001b[0mparser\u001b[0m \u001b[1;33m=\u001b[0m \u001b[0mTextFileReader\u001b[0m\u001b[1;33m(\u001b[0m\u001b[0mfilepath_or_buffer\u001b[0m\u001b[1;33m,\u001b[0m \u001b[1;33m**\u001b[0m\u001b[0mkwds\u001b[0m\u001b[1;33m)\u001b[0m\u001b[1;33m\u001b[0m\u001b[1;33m\u001b[0m\u001b[0m\n\u001b[0m\u001b[0;32m    576\u001b[0m \u001b[1;33m\u001b[0m\u001b[0m\n\u001b[0;32m    577\u001b[0m     \u001b[1;32mif\u001b[0m \u001b[0mchunksize\u001b[0m \u001b[1;32mor\u001b[0m \u001b[0miterator\u001b[0m\u001b[1;33m:\u001b[0m\u001b[1;33m\u001b[0m\u001b[1;33m\u001b[0m\u001b[0m\n",
      "\u001b[1;32mC:\\ProgramData\\Anaconda3\\lib\\site-packages\\pandas\\io\\parsers\\readers.py\u001b[0m in \u001b[0;36m__init__\u001b[1;34m(self, f, engine, **kwds)\u001b[0m\n\u001b[0;32m    930\u001b[0m \u001b[1;33m\u001b[0m\u001b[0m\n\u001b[0;32m    931\u001b[0m         \u001b[0mself\u001b[0m\u001b[1;33m.\u001b[0m\u001b[0mhandles\u001b[0m\u001b[1;33m:\u001b[0m \u001b[0mIOHandles\u001b[0m \u001b[1;33m|\u001b[0m \u001b[1;32mNone\u001b[0m \u001b[1;33m=\u001b[0m \u001b[1;32mNone\u001b[0m\u001b[1;33m\u001b[0m\u001b[1;33m\u001b[0m\u001b[0m\n\u001b[1;32m--> 932\u001b[1;33m         \u001b[0mself\u001b[0m\u001b[1;33m.\u001b[0m\u001b[0m_engine\u001b[0m \u001b[1;33m=\u001b[0m \u001b[0mself\u001b[0m\u001b[1;33m.\u001b[0m\u001b[0m_make_engine\u001b[0m\u001b[1;33m(\u001b[0m\u001b[0mf\u001b[0m\u001b[1;33m,\u001b[0m \u001b[0mself\u001b[0m\u001b[1;33m.\u001b[0m\u001b[0mengine\u001b[0m\u001b[1;33m)\u001b[0m\u001b[1;33m\u001b[0m\u001b[1;33m\u001b[0m\u001b[0m\n\u001b[0m\u001b[0;32m    933\u001b[0m \u001b[1;33m\u001b[0m\u001b[0m\n\u001b[0;32m    934\u001b[0m     \u001b[1;32mdef\u001b[0m \u001b[0mclose\u001b[0m\u001b[1;33m(\u001b[0m\u001b[0mself\u001b[0m\u001b[1;33m)\u001b[0m\u001b[1;33m:\u001b[0m\u001b[1;33m\u001b[0m\u001b[1;33m\u001b[0m\u001b[0m\n",
      "\u001b[1;32mC:\\ProgramData\\Anaconda3\\lib\\site-packages\\pandas\\io\\parsers\\readers.py\u001b[0m in \u001b[0;36m_make_engine\u001b[1;34m(self, f, engine)\u001b[0m\n\u001b[0;32m   1214\u001b[0m             \u001b[1;31m# \"Union[str, PathLike[str], ReadCsvBuffer[bytes], ReadCsvBuffer[str]]\"\u001b[0m\u001b[1;33m\u001b[0m\u001b[1;33m\u001b[0m\u001b[0m\n\u001b[0;32m   1215\u001b[0m             \u001b[1;31m# , \"str\", \"bool\", \"Any\", \"Any\", \"Any\", \"Any\", \"Any\"\u001b[0m\u001b[1;33m\u001b[0m\u001b[1;33m\u001b[0m\u001b[0m\n\u001b[1;32m-> 1216\u001b[1;33m             self.handles = get_handle(  # type: ignore[call-overload]\n\u001b[0m\u001b[0;32m   1217\u001b[0m                 \u001b[0mf\u001b[0m\u001b[1;33m,\u001b[0m\u001b[1;33m\u001b[0m\u001b[1;33m\u001b[0m\u001b[0m\n\u001b[0;32m   1218\u001b[0m                 \u001b[0mmode\u001b[0m\u001b[1;33m,\u001b[0m\u001b[1;33m\u001b[0m\u001b[1;33m\u001b[0m\u001b[0m\n",
      "\u001b[1;32mC:\\ProgramData\\Anaconda3\\lib\\site-packages\\pandas\\io\\common.py\u001b[0m in \u001b[0;36mget_handle\u001b[1;34m(path_or_buf, mode, encoding, compression, memory_map, is_text, errors, storage_options)\u001b[0m\n\u001b[0;32m    665\u001b[0m \u001b[1;33m\u001b[0m\u001b[0m\n\u001b[0;32m    666\u001b[0m     \u001b[1;31m# open URLs\u001b[0m\u001b[1;33m\u001b[0m\u001b[1;33m\u001b[0m\u001b[0m\n\u001b[1;32m--> 667\u001b[1;33m     ioargs = _get_filepath_or_buffer(\n\u001b[0m\u001b[0;32m    668\u001b[0m         \u001b[0mpath_or_buf\u001b[0m\u001b[1;33m,\u001b[0m\u001b[1;33m\u001b[0m\u001b[1;33m\u001b[0m\u001b[0m\n\u001b[0;32m    669\u001b[0m         \u001b[0mencoding\u001b[0m\u001b[1;33m=\u001b[0m\u001b[0mencoding\u001b[0m\u001b[1;33m,\u001b[0m\u001b[1;33m\u001b[0m\u001b[1;33m\u001b[0m\u001b[0m\n",
      "\u001b[1;32mC:\\ProgramData\\Anaconda3\\lib\\site-packages\\pandas\\io\\common.py\u001b[0m in \u001b[0;36m_get_filepath_or_buffer\u001b[1;34m(filepath_or_buffer, encoding, compression, mode, storage_options)\u001b[0m\n\u001b[0;32m    334\u001b[0m         \u001b[1;31m# assuming storage_options is to be interpreted as headers\u001b[0m\u001b[1;33m\u001b[0m\u001b[1;33m\u001b[0m\u001b[0m\n\u001b[0;32m    335\u001b[0m         \u001b[0mreq_info\u001b[0m \u001b[1;33m=\u001b[0m \u001b[0murllib\u001b[0m\u001b[1;33m.\u001b[0m\u001b[0mrequest\u001b[0m\u001b[1;33m.\u001b[0m\u001b[0mRequest\u001b[0m\u001b[1;33m(\u001b[0m\u001b[0mfilepath_or_buffer\u001b[0m\u001b[1;33m,\u001b[0m \u001b[0mheaders\u001b[0m\u001b[1;33m=\u001b[0m\u001b[0mstorage_options\u001b[0m\u001b[1;33m)\u001b[0m\u001b[1;33m\u001b[0m\u001b[1;33m\u001b[0m\u001b[0m\n\u001b[1;32m--> 336\u001b[1;33m         \u001b[1;32mwith\u001b[0m \u001b[0murlopen\u001b[0m\u001b[1;33m(\u001b[0m\u001b[0mreq_info\u001b[0m\u001b[1;33m)\u001b[0m \u001b[1;32mas\u001b[0m \u001b[0mreq\u001b[0m\u001b[1;33m:\u001b[0m\u001b[1;33m\u001b[0m\u001b[1;33m\u001b[0m\u001b[0m\n\u001b[0m\u001b[0;32m    337\u001b[0m             \u001b[0mcontent_encoding\u001b[0m \u001b[1;33m=\u001b[0m \u001b[0mreq\u001b[0m\u001b[1;33m.\u001b[0m\u001b[0mheaders\u001b[0m\u001b[1;33m.\u001b[0m\u001b[0mget\u001b[0m\u001b[1;33m(\u001b[0m\u001b[1;34m\"Content-Encoding\"\u001b[0m\u001b[1;33m,\u001b[0m \u001b[1;32mNone\u001b[0m\u001b[1;33m)\u001b[0m\u001b[1;33m\u001b[0m\u001b[1;33m\u001b[0m\u001b[0m\n\u001b[0;32m    338\u001b[0m             \u001b[1;32mif\u001b[0m \u001b[0mcontent_encoding\u001b[0m \u001b[1;33m==\u001b[0m \u001b[1;34m\"gzip\"\u001b[0m\u001b[1;33m:\u001b[0m\u001b[1;33m\u001b[0m\u001b[1;33m\u001b[0m\u001b[0m\n",
      "\u001b[1;32mC:\\ProgramData\\Anaconda3\\lib\\site-packages\\pandas\\io\\common.py\u001b[0m in \u001b[0;36murlopen\u001b[1;34m(*args, **kwargs)\u001b[0m\n\u001b[0;32m    234\u001b[0m     \u001b[1;32mimport\u001b[0m \u001b[0murllib\u001b[0m\u001b[1;33m.\u001b[0m\u001b[0mrequest\u001b[0m\u001b[1;33m\u001b[0m\u001b[1;33m\u001b[0m\u001b[0m\n\u001b[0;32m    235\u001b[0m \u001b[1;33m\u001b[0m\u001b[0m\n\u001b[1;32m--> 236\u001b[1;33m     \u001b[1;32mreturn\u001b[0m \u001b[0murllib\u001b[0m\u001b[1;33m.\u001b[0m\u001b[0mrequest\u001b[0m\u001b[1;33m.\u001b[0m\u001b[0murlopen\u001b[0m\u001b[1;33m(\u001b[0m\u001b[1;33m*\u001b[0m\u001b[0margs\u001b[0m\u001b[1;33m,\u001b[0m \u001b[1;33m**\u001b[0m\u001b[0mkwargs\u001b[0m\u001b[1;33m)\u001b[0m\u001b[1;33m\u001b[0m\u001b[1;33m\u001b[0m\u001b[0m\n\u001b[0m\u001b[0;32m    237\u001b[0m \u001b[1;33m\u001b[0m\u001b[0m\n\u001b[0;32m    238\u001b[0m \u001b[1;33m\u001b[0m\u001b[0m\n",
      "\u001b[1;32mC:\\ProgramData\\Anaconda3\\lib\\urllib\\request.py\u001b[0m in \u001b[0;36murlopen\u001b[1;34m(url, data, timeout, cafile, capath, cadefault, context)\u001b[0m\n\u001b[0;32m    212\u001b[0m     \u001b[1;32melse\u001b[0m\u001b[1;33m:\u001b[0m\u001b[1;33m\u001b[0m\u001b[1;33m\u001b[0m\u001b[0m\n\u001b[0;32m    213\u001b[0m         \u001b[0mopener\u001b[0m \u001b[1;33m=\u001b[0m \u001b[0m_opener\u001b[0m\u001b[1;33m\u001b[0m\u001b[1;33m\u001b[0m\u001b[0m\n\u001b[1;32m--> 214\u001b[1;33m     \u001b[1;32mreturn\u001b[0m \u001b[0mopener\u001b[0m\u001b[1;33m.\u001b[0m\u001b[0mopen\u001b[0m\u001b[1;33m(\u001b[0m\u001b[0murl\u001b[0m\u001b[1;33m,\u001b[0m \u001b[0mdata\u001b[0m\u001b[1;33m,\u001b[0m \u001b[0mtimeout\u001b[0m\u001b[1;33m)\u001b[0m\u001b[1;33m\u001b[0m\u001b[1;33m\u001b[0m\u001b[0m\n\u001b[0m\u001b[0;32m    215\u001b[0m \u001b[1;33m\u001b[0m\u001b[0m\n\u001b[0;32m    216\u001b[0m \u001b[1;32mdef\u001b[0m \u001b[0minstall_opener\u001b[0m\u001b[1;33m(\u001b[0m\u001b[0mopener\u001b[0m\u001b[1;33m)\u001b[0m\u001b[1;33m:\u001b[0m\u001b[1;33m\u001b[0m\u001b[1;33m\u001b[0m\u001b[0m\n",
      "\u001b[1;32mC:\\ProgramData\\Anaconda3\\lib\\urllib\\request.py\u001b[0m in \u001b[0;36mopen\u001b[1;34m(self, fullurl, data, timeout)\u001b[0m\n\u001b[0;32m    521\u001b[0m         \u001b[1;32mfor\u001b[0m \u001b[0mprocessor\u001b[0m \u001b[1;32min\u001b[0m \u001b[0mself\u001b[0m\u001b[1;33m.\u001b[0m\u001b[0mprocess_response\u001b[0m\u001b[1;33m.\u001b[0m\u001b[0mget\u001b[0m\u001b[1;33m(\u001b[0m\u001b[0mprotocol\u001b[0m\u001b[1;33m,\u001b[0m \u001b[1;33m[\u001b[0m\u001b[1;33m]\u001b[0m\u001b[1;33m)\u001b[0m\u001b[1;33m:\u001b[0m\u001b[1;33m\u001b[0m\u001b[1;33m\u001b[0m\u001b[0m\n\u001b[0;32m    522\u001b[0m             \u001b[0mmeth\u001b[0m \u001b[1;33m=\u001b[0m \u001b[0mgetattr\u001b[0m\u001b[1;33m(\u001b[0m\u001b[0mprocessor\u001b[0m\u001b[1;33m,\u001b[0m \u001b[0mmeth_name\u001b[0m\u001b[1;33m)\u001b[0m\u001b[1;33m\u001b[0m\u001b[1;33m\u001b[0m\u001b[0m\n\u001b[1;32m--> 523\u001b[1;33m             \u001b[0mresponse\u001b[0m \u001b[1;33m=\u001b[0m \u001b[0mmeth\u001b[0m\u001b[1;33m(\u001b[0m\u001b[0mreq\u001b[0m\u001b[1;33m,\u001b[0m \u001b[0mresponse\u001b[0m\u001b[1;33m)\u001b[0m\u001b[1;33m\u001b[0m\u001b[1;33m\u001b[0m\u001b[0m\n\u001b[0m\u001b[0;32m    524\u001b[0m \u001b[1;33m\u001b[0m\u001b[0m\n\u001b[0;32m    525\u001b[0m         \u001b[1;32mreturn\u001b[0m \u001b[0mresponse\u001b[0m\u001b[1;33m\u001b[0m\u001b[1;33m\u001b[0m\u001b[0m\n",
      "\u001b[1;32mC:\\ProgramData\\Anaconda3\\lib\\urllib\\request.py\u001b[0m in \u001b[0;36mhttp_response\u001b[1;34m(self, request, response)\u001b[0m\n\u001b[0;32m    630\u001b[0m         \u001b[1;31m# request was successfully received, understood, and accepted.\u001b[0m\u001b[1;33m\u001b[0m\u001b[1;33m\u001b[0m\u001b[0m\n\u001b[0;32m    631\u001b[0m         \u001b[1;32mif\u001b[0m \u001b[1;32mnot\u001b[0m \u001b[1;33m(\u001b[0m\u001b[1;36m200\u001b[0m \u001b[1;33m<=\u001b[0m \u001b[0mcode\u001b[0m \u001b[1;33m<\u001b[0m \u001b[1;36m300\u001b[0m\u001b[1;33m)\u001b[0m\u001b[1;33m:\u001b[0m\u001b[1;33m\u001b[0m\u001b[1;33m\u001b[0m\u001b[0m\n\u001b[1;32m--> 632\u001b[1;33m             response = self.parent.error(\n\u001b[0m\u001b[0;32m    633\u001b[0m                 'http', request, response, code, msg, hdrs)\n\u001b[0;32m    634\u001b[0m \u001b[1;33m\u001b[0m\u001b[0m\n",
      "\u001b[1;32mC:\\ProgramData\\Anaconda3\\lib\\urllib\\request.py\u001b[0m in \u001b[0;36merror\u001b[1;34m(self, proto, *args)\u001b[0m\n\u001b[0;32m    559\u001b[0m         \u001b[1;32mif\u001b[0m \u001b[0mhttp_err\u001b[0m\u001b[1;33m:\u001b[0m\u001b[1;33m\u001b[0m\u001b[1;33m\u001b[0m\u001b[0m\n\u001b[0;32m    560\u001b[0m             \u001b[0margs\u001b[0m \u001b[1;33m=\u001b[0m \u001b[1;33m(\u001b[0m\u001b[0mdict\u001b[0m\u001b[1;33m,\u001b[0m \u001b[1;34m'default'\u001b[0m\u001b[1;33m,\u001b[0m \u001b[1;34m'http_error_default'\u001b[0m\u001b[1;33m)\u001b[0m \u001b[1;33m+\u001b[0m \u001b[0morig_args\u001b[0m\u001b[1;33m\u001b[0m\u001b[1;33m\u001b[0m\u001b[0m\n\u001b[1;32m--> 561\u001b[1;33m             \u001b[1;32mreturn\u001b[0m \u001b[0mself\u001b[0m\u001b[1;33m.\u001b[0m\u001b[0m_call_chain\u001b[0m\u001b[1;33m(\u001b[0m\u001b[1;33m*\u001b[0m\u001b[0margs\u001b[0m\u001b[1;33m)\u001b[0m\u001b[1;33m\u001b[0m\u001b[1;33m\u001b[0m\u001b[0m\n\u001b[0m\u001b[0;32m    562\u001b[0m \u001b[1;33m\u001b[0m\u001b[0m\n\u001b[0;32m    563\u001b[0m \u001b[1;31m# XXX probably also want an abstract factory that knows when it makes\u001b[0m\u001b[1;33m\u001b[0m\u001b[1;33m\u001b[0m\u001b[0m\n",
      "\u001b[1;32mC:\\ProgramData\\Anaconda3\\lib\\urllib\\request.py\u001b[0m in \u001b[0;36m_call_chain\u001b[1;34m(self, chain, kind, meth_name, *args)\u001b[0m\n\u001b[0;32m    492\u001b[0m         \u001b[1;32mfor\u001b[0m \u001b[0mhandler\u001b[0m \u001b[1;32min\u001b[0m \u001b[0mhandlers\u001b[0m\u001b[1;33m:\u001b[0m\u001b[1;33m\u001b[0m\u001b[1;33m\u001b[0m\u001b[0m\n\u001b[0;32m    493\u001b[0m             \u001b[0mfunc\u001b[0m \u001b[1;33m=\u001b[0m \u001b[0mgetattr\u001b[0m\u001b[1;33m(\u001b[0m\u001b[0mhandler\u001b[0m\u001b[1;33m,\u001b[0m \u001b[0mmeth_name\u001b[0m\u001b[1;33m)\u001b[0m\u001b[1;33m\u001b[0m\u001b[1;33m\u001b[0m\u001b[0m\n\u001b[1;32m--> 494\u001b[1;33m             \u001b[0mresult\u001b[0m \u001b[1;33m=\u001b[0m \u001b[0mfunc\u001b[0m\u001b[1;33m(\u001b[0m\u001b[1;33m*\u001b[0m\u001b[0margs\u001b[0m\u001b[1;33m)\u001b[0m\u001b[1;33m\u001b[0m\u001b[1;33m\u001b[0m\u001b[0m\n\u001b[0m\u001b[0;32m    495\u001b[0m             \u001b[1;32mif\u001b[0m \u001b[0mresult\u001b[0m \u001b[1;32mis\u001b[0m \u001b[1;32mnot\u001b[0m \u001b[1;32mNone\u001b[0m\u001b[1;33m:\u001b[0m\u001b[1;33m\u001b[0m\u001b[1;33m\u001b[0m\u001b[0m\n\u001b[0;32m    496\u001b[0m                 \u001b[1;32mreturn\u001b[0m \u001b[0mresult\u001b[0m\u001b[1;33m\u001b[0m\u001b[1;33m\u001b[0m\u001b[0m\n",
      "\u001b[1;32mC:\\ProgramData\\Anaconda3\\lib\\urllib\\request.py\u001b[0m in \u001b[0;36mhttp_error_default\u001b[1;34m(self, req, fp, code, msg, hdrs)\u001b[0m\n\u001b[0;32m    639\u001b[0m \u001b[1;32mclass\u001b[0m \u001b[0mHTTPDefaultErrorHandler\u001b[0m\u001b[1;33m(\u001b[0m\u001b[0mBaseHandler\u001b[0m\u001b[1;33m)\u001b[0m\u001b[1;33m:\u001b[0m\u001b[1;33m\u001b[0m\u001b[1;33m\u001b[0m\u001b[0m\n\u001b[0;32m    640\u001b[0m     \u001b[1;32mdef\u001b[0m \u001b[0mhttp_error_default\u001b[0m\u001b[1;33m(\u001b[0m\u001b[0mself\u001b[0m\u001b[1;33m,\u001b[0m \u001b[0mreq\u001b[0m\u001b[1;33m,\u001b[0m \u001b[0mfp\u001b[0m\u001b[1;33m,\u001b[0m \u001b[0mcode\u001b[0m\u001b[1;33m,\u001b[0m \u001b[0mmsg\u001b[0m\u001b[1;33m,\u001b[0m \u001b[0mhdrs\u001b[0m\u001b[1;33m)\u001b[0m\u001b[1;33m:\u001b[0m\u001b[1;33m\u001b[0m\u001b[1;33m\u001b[0m\u001b[0m\n\u001b[1;32m--> 641\u001b[1;33m         \u001b[1;32mraise\u001b[0m \u001b[0mHTTPError\u001b[0m\u001b[1;33m(\u001b[0m\u001b[0mreq\u001b[0m\u001b[1;33m.\u001b[0m\u001b[0mfull_url\u001b[0m\u001b[1;33m,\u001b[0m \u001b[0mcode\u001b[0m\u001b[1;33m,\u001b[0m \u001b[0mmsg\u001b[0m\u001b[1;33m,\u001b[0m \u001b[0mhdrs\u001b[0m\u001b[1;33m,\u001b[0m \u001b[0mfp\u001b[0m\u001b[1;33m)\u001b[0m\u001b[1;33m\u001b[0m\u001b[1;33m\u001b[0m\u001b[0m\n\u001b[0m\u001b[0;32m    642\u001b[0m \u001b[1;33m\u001b[0m\u001b[0m\n\u001b[0;32m    643\u001b[0m \u001b[1;32mclass\u001b[0m \u001b[0mHTTPRedirectHandler\u001b[0m\u001b[1;33m(\u001b[0m\u001b[0mBaseHandler\u001b[0m\u001b[1;33m)\u001b[0m\u001b[1;33m:\u001b[0m\u001b[1;33m\u001b[0m\u001b[1;33m\u001b[0m\u001b[0m\n",
      "\u001b[1;31mHTTPError\u001b[0m: HTTP Error 404: Not Found"
     ]
    }
   ],
   "source": [
    "import pandas as pd\n",
    "\n",
    "df= pd.read_csv(\"https://media.githubusercontent.com/media/rk18081999/final-project-rep/main/psam_husa.csv?token=ANTHJQG5TC32VTHJKHOYIF3F6A4JQ\")\n",
    "\n",
    "df.head()\n"
   ]
  }
 ],
 "metadata": {
  "kernelspec": {
   "display_name": "Python 3 (ipykernel)",
   "language": "python",
   "name": "python3"
  },
  "language_info": {
   "codemirror_mode": {
    "name": "ipython",
    "version": 3
   },
   "file_extension": ".py",
   "mimetype": "text/x-python",
   "name": "python",
   "nbconvert_exporter": "python",
   "pygments_lexer": "ipython3",
   "version": "3.9.13"
  }
 },
 "nbformat": 4,
 "nbformat_minor": 5
}
